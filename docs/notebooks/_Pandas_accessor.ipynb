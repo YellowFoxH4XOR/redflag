{
 "cells": [
  {
   "cell_type": "markdown",
   "id": "355e4657",
   "metadata": {},
   "source": [
    "# Pandas accessor for `redflag`"
   ]
  },
  {
   "cell_type": "code",
   "execution_count": 2,
   "id": "75bb8303",
   "metadata": {},
   "outputs": [
    {
     "data": {
      "text/html": [
       "<div>\n",
       "<style scoped>\n",
       "    .dataframe tbody tr th:only-of-type {\n",
       "        vertical-align: middle;\n",
       "    }\n",
       "\n",
       "    .dataframe tbody tr th {\n",
       "        vertical-align: top;\n",
       "    }\n",
       "\n",
       "    .dataframe thead th {\n",
       "        text-align: right;\n",
       "    }\n",
       "</style>\n",
       "<table border=\"1\" class=\"dataframe\">\n",
       "  <thead>\n",
       "    <tr style=\"text-align: right;\">\n",
       "      <th></th>\n",
       "      <th>Vp</th>\n",
       "      <th>Vs</th>\n",
       "      <th>rho</th>\n",
       "      <th>Lithology</th>\n",
       "    </tr>\n",
       "  </thead>\n",
       "  <tbody>\n",
       "    <tr>\n",
       "      <th>0</th>\n",
       "      <td>3045.6</td>\n",
       "      <td>1595.7</td>\n",
       "      <td>2.109121</td>\n",
       "      <td>sandstone</td>\n",
       "    </tr>\n",
       "    <tr>\n",
       "      <th>1</th>\n",
       "      <td>3000.6</td>\n",
       "      <td>1517.1</td>\n",
       "      <td>2.090342</td>\n",
       "      <td>sandstone</td>\n",
       "    </tr>\n",
       "    <tr>\n",
       "      <th>2</th>\n",
       "      <td>3363.6</td>\n",
       "      <td>2041.5</td>\n",
       "      <td>2.131990</td>\n",
       "      <td>sandstone</td>\n",
       "    </tr>\n",
       "    <tr>\n",
       "      <th>3</th>\n",
       "      <td>3195.3</td>\n",
       "      <td>1606.2</td>\n",
       "      <td>2.184939</td>\n",
       "      <td>sandstone</td>\n",
       "    </tr>\n",
       "    <tr>\n",
       "      <th>4</th>\n",
       "      <td>4237.5</td>\n",
       "      <td>2448.6</td>\n",
       "      <td>2.472231</td>\n",
       "      <td>sandstone</td>\n",
       "    </tr>\n",
       "  </tbody>\n",
       "</table>\n",
       "</div>"
      ],
      "text/plain": [
       "       Vp      Vs       rho  Lithology\n",
       "0  3045.6  1595.7  2.109121  sandstone\n",
       "1  3000.6  1517.1  2.090342  sandstone\n",
       "2  3363.6  2041.5  2.131990  sandstone\n",
       "3  3195.3  1606.2  2.184939  sandstone\n",
       "4  4237.5  2448.6  2.472231  sandstone"
      ]
     },
     "execution_count": 2,
     "metadata": {},
     "output_type": "execute_result"
    }
   ],
   "source": [
    "import pandas as pd\n",
    "\n",
    "df = pd.read_csv(\"https://geocomp.s3.amazonaws.com/data/RPC_simple.csv\")\n",
    "\n",
    "df.head()"
   ]
  },
  {
   "cell_type": "code",
   "execution_count": 3,
   "id": "39832c6c",
   "metadata": {},
   "outputs": [
    {
     "data": {
      "text/plain": [
       "1.4130434782602501"
      ]
     },
     "execution_count": 3,
     "metadata": {},
     "output_type": "execute_result"
    }
   ],
   "source": [
    "import redflag as rf\n",
    "\n",
    "rf.imbalance_degree([1,1,2,1,1,2,2,1,1,1,1,1,2,1,3,3,3,3,2,1,1,1,1])"
   ]
  },
  {
   "cell_type": "code",
   "execution_count": 4,
   "id": "92e29966",
   "metadata": {},
   "outputs": [],
   "source": [
    "from pandas.api.extensions import register_dataframe_accessor"
   ]
  },
  {
   "cell_type": "code",
   "execution_count": 5,
   "id": "372a6bf1",
   "metadata": {},
   "outputs": [],
   "source": [
    "@register_dataframe_accessor(\"redflag\")\n",
    "class RedflagAccessor:\n",
    "    def __init__(self, pandas_obj):\n",
    "        self._obj = pandas_obj\n",
    "\n",
    "    def imbalance_degree(self, target=None):\n",
    "        return rf.imbalance_degree(self._obj[target])\n",
    "\n",
    "    def minority_classes(self, target=None):\n",
    "        return rf.minority_classes(self._obj[target])"
   ]
  },
  {
   "cell_type": "code",
   "execution_count": 6,
   "id": "7c3963ec",
   "metadata": {},
   "outputs": [
    {
     "data": {
      "text/plain": [
       "-1.0"
      ]
     },
     "execution_count": 6,
     "metadata": {},
     "output_type": "execute_result"
    }
   ],
   "source": [
    "df.redflag.imbalance_degree(target='Lithology')"
   ]
  },
  {
   "cell_type": "markdown",
   "id": "ea50c3ce",
   "metadata": {},
   "source": [
    "Noice."
   ]
  },
  {
   "cell_type": "code",
   "execution_count": 7,
   "id": "94f7c2cd",
   "metadata": {},
   "outputs": [
    {
     "data": {
      "text/plain": [
       "array([], dtype=float64)"
      ]
     },
     "execution_count": 7,
     "metadata": {},
     "output_type": "execute_result"
    }
   ],
   "source": [
    "df.redflag.minority_classes(target='Lithology')"
   ]
  },
  {
   "cell_type": "code",
   "execution_count": 8,
   "id": "62ea78b5",
   "metadata": {},
   "outputs": [
    {
     "data": {
      "text/plain": [
       "array([], dtype=int64)"
      ]
     },
     "execution_count": 8,
     "metadata": {},
     "output_type": "execute_result"
    }
   ],
   "source": [
    "import redflag as rf\n",
    "data = 3 * [-3, -2, -2, -1, 0, 0, 0, 1, 2, 2, 3]\n",
    "rf.get_outliers(data)\n",
    "# array([], dtype=int64)"
   ]
  },
  {
   "cell_type": "code",
   "execution_count": 9,
   "id": "84c883db",
   "metadata": {},
   "outputs": [
    {
     "data": {
      "text/plain": [
       "array([1.3, 1.1, 1.8, 1.6, 1.5, 1.2, 1.7, 1.9, 1.4, 1. ])"
      ]
     },
     "execution_count": 9,
     "metadata": {},
     "output_type": "execute_result"
    }
   ],
   "source": [
    "import numpy as np\n",
    "import redflag as rf\n",
    "from sklearn.linear_model import LinearRegression\n",
    "from sklearn.pipeline import make_pipeline\n",
    "\n",
    "X = np.arange(10).reshape(-1, 1)\n",
    "np.random.shuffle(X)\n",
    "y = np.squeeze(10 * X + 1)\n",
    "pipe = make_pipeline(rf.DistributionComparator(), LinearRegression())\n",
    "pipe.fit(X, y)\n",
    "pipe.predict(X / 100)  # Dramatically different distribution."
   ]
  },
  {
   "cell_type": "code",
   "execution_count": 10,
   "id": "6427e5ee",
   "metadata": {},
   "outputs": [
    {
     "data": {
      "text/plain": [
       "array([1.3, 1.1, 1.8, 1.6, 1.5, 1.2, 1.7, 1.9, 1.4, 1. ])"
      ]
     },
     "execution_count": 10,
     "metadata": {},
     "output_type": "execute_result"
    }
   ],
   "source": [
    "pipe.predict(X / 100)"
   ]
  },
  {
   "cell_type": "code",
   "execution_count": 11,
   "id": "6e912a70",
   "metadata": {},
   "outputs": [
    {
     "data": {
      "text/plain": [
       "array([[3],\n",
       "       [1],\n",
       "       [8],\n",
       "       [6],\n",
       "       [5],\n",
       "       [2],\n",
       "       [7],\n",
       "       [9],\n",
       "       [4],\n",
       "       [0]])"
      ]
     },
     "execution_count": 11,
     "metadata": {},
     "output_type": "execute_result"
    }
   ],
   "source": [
    "X"
   ]
  },
  {
   "cell_type": "markdown",
   "id": "45185280",
   "metadata": {},
   "source": [
    "## Series Accessor"
   ]
  },
  {
   "cell_type": "code",
   "execution_count": 12,
   "id": "7ec28d7f",
   "metadata": {},
   "outputs": [],
   "source": [
    "from pandas.api.extensions import register_series_accessor\n",
    "from pandas.api.extensions import register_dataframe_accessor\n",
    "\n",
    "@register_series_accessor(\"redflag\")\n",
    "class SeriesAccessor:\n",
    "    def __init__(self, pandas_obj):\n",
    "        self._obj = pandas_obj\n",
    "\n",
    "    def imbalance_degree(self):\n",
    "        return rf.imbalance_degree(self._obj)\n",
    "\n",
    "    def minority_classes(self):\n",
    "        return rf.minority_classes(self._obj)"
   ]
  },
  {
   "cell_type": "code",
   "execution_count": 13,
   "id": "88447a57",
   "metadata": {},
   "outputs": [
    {
     "data": {
      "text/plain": [
       "-1.0"
      ]
     },
     "execution_count": 13,
     "metadata": {},
     "output_type": "execute_result"
    }
   ],
   "source": [
    "df['Lithology'].redflag.imbalance_degree()"
   ]
  },
  {
   "cell_type": "markdown",
   "id": "369cf2f6",
   "metadata": {},
   "source": [
    "## Avoid depending on pandas\n",
    "\n",
    "We want to avoid importing Pandas if a person doesn't want to use the accessors.\n",
    "\n",
    "BTW, we can't (or don't want to) avoid depending on `sklearn` so the sklearn.py module does not need to do the same."
   ]
  },
  {
   "cell_type": "code",
   "execution_count": 14,
   "id": "e9b7c6f0",
   "metadata": {},
   "outputs": [],
   "source": [
    "def identity(arg):\n",
    "    def decorator(func):\n",
    "        return func \n",
    "    return decorator\n",
    "\n",
    "@identity('foo')\n",
    "def hello(x):\n",
    "    return f\"Hello {x}\""
   ]
  },
  {
   "cell_type": "code",
   "execution_count": 15,
   "id": "2dc1164b",
   "metadata": {},
   "outputs": [
    {
     "data": {
      "text/plain": [
       "'Hello Matt'"
      ]
     },
     "execution_count": 15,
     "metadata": {},
     "output_type": "execute_result"
    }
   ],
   "source": [
    "hello('Matt')"
   ]
  },
  {
   "cell_type": "markdown",
   "id": "7c51e1d2",
   "metadata": {},
   "source": [
    "Test with environment `foo`, which does not have `pandas`..."
   ]
  },
  {
   "cell_type": "code",
   "execution_count": 16,
   "id": "e6ea05f0",
   "metadata": {},
   "outputs": [
    {
     "data": {
      "text/html": [
       "<div>\n",
       "<style scoped>\n",
       "    .dataframe tbody tr th:only-of-type {\n",
       "        vertical-align: middle;\n",
       "    }\n",
       "\n",
       "    .dataframe tbody tr th {\n",
       "        vertical-align: top;\n",
       "    }\n",
       "\n",
       "    .dataframe thead th {\n",
       "        text-align: right;\n",
       "    }\n",
       "</style>\n",
       "<table border=\"1\" class=\"dataframe\">\n",
       "  <thead>\n",
       "    <tr style=\"text-align: right;\">\n",
       "      <th></th>\n",
       "      <th>Vp</th>\n",
       "      <th>Vs</th>\n",
       "      <th>rho</th>\n",
       "      <th>Lithology</th>\n",
       "    </tr>\n",
       "  </thead>\n",
       "  <tbody>\n",
       "    <tr>\n",
       "      <th>0</th>\n",
       "      <td>3045.6</td>\n",
       "      <td>1595.7</td>\n",
       "      <td>2.109121</td>\n",
       "      <td>sandstone</td>\n",
       "    </tr>\n",
       "    <tr>\n",
       "      <th>1</th>\n",
       "      <td>3000.6</td>\n",
       "      <td>1517.1</td>\n",
       "      <td>2.090342</td>\n",
       "      <td>sandstone</td>\n",
       "    </tr>\n",
       "    <tr>\n",
       "      <th>2</th>\n",
       "      <td>3363.6</td>\n",
       "      <td>2041.5</td>\n",
       "      <td>2.131990</td>\n",
       "      <td>sandstone</td>\n",
       "    </tr>\n",
       "    <tr>\n",
       "      <th>3</th>\n",
       "      <td>3195.3</td>\n",
       "      <td>1606.2</td>\n",
       "      <td>2.184939</td>\n",
       "      <td>sandstone</td>\n",
       "    </tr>\n",
       "    <tr>\n",
       "      <th>4</th>\n",
       "      <td>4237.5</td>\n",
       "      <td>2448.6</td>\n",
       "      <td>2.472231</td>\n",
       "      <td>sandstone</td>\n",
       "    </tr>\n",
       "  </tbody>\n",
       "</table>\n",
       "</div>"
      ],
      "text/plain": [
       "       Vp      Vs       rho  Lithology\n",
       "0  3045.6  1595.7  2.109121  sandstone\n",
       "1  3000.6  1517.1  2.090342  sandstone\n",
       "2  3363.6  2041.5  2.131990  sandstone\n",
       "3  3195.3  1606.2  2.184939  sandstone\n",
       "4  4237.5  2448.6  2.472231  sandstone"
      ]
     },
     "execution_count": 16,
     "metadata": {},
     "output_type": "execute_result"
    }
   ],
   "source": [
    "import pandas as pd\n",
    "\n",
    "df = pd.read_csv(\"https://geocomp.s3.amazonaws.com/data/RPC_simple.csv\")\n",
    "\n",
    "df.head()"
   ]
  },
  {
   "cell_type": "code",
   "execution_count": 17,
   "id": "348a0d99",
   "metadata": {},
   "outputs": [
    {
     "data": {
      "text/plain": [
       "1.4130434782602501"
      ]
     },
     "execution_count": 17,
     "metadata": {},
     "output_type": "execute_result"
    }
   ],
   "source": [
    "import redflag as rf\n",
    "\n",
    "rf.imbalance_degree([1,1,2,1,1,2,2,1,1,1,1,1,2,1,3,3,3,3,2,1,1,1,1])"
   ]
  },
  {
   "cell_type": "markdown",
   "id": "7aa17834",
   "metadata": {},
   "source": [
    "## Dummy models"
   ]
  },
  {
   "cell_type": "code",
   "execution_count": 18,
   "id": "f40ed815",
   "metadata": {},
   "outputs": [
    {
     "data": {
      "text/plain": [
       "0      sandstone\n",
       "1      sandstone\n",
       "2      sandstone\n",
       "3      sandstone\n",
       "4      sandstone\n",
       "         ...    \n",
       "395        shale\n",
       "396        shale\n",
       "397        shale\n",
       "398        shale\n",
       "399        shale\n",
       "Name: Lithology, Length: 400, dtype: object"
      ]
     },
     "execution_count": 18,
     "metadata": {},
     "output_type": "execute_result"
    }
   ],
   "source": [
    "df['Lithology']"
   ]
  },
  {
   "cell_type": "code",
   "execution_count": 67,
   "id": "ffadaf98",
   "metadata": {},
   "outputs": [
    {
     "data": {
      "text/plain": [
       "{'most_frequent': {'f1': 0.33333333333333326, 'roc_auc': 0.5},\n",
       " 'stratified': {'f1': 0.47233840363611357, 'roc_auc': 0.4725}}"
      ]
     },
     "execution_count": 67,
     "metadata": {},
     "output_type": "execute_result"
    }
   ],
   "source": [
    "from sklearn.dummy import DummyClassifier\n",
    "from sklearn.metrics import f1_score, roc_auc_score\n",
    "from sklearn.metrics import mean_squared_error, r2_score\n",
    "\n",
    "def dummy_classification_scores(y, random_state=None):\n",
    "    result = {'most_frequent': {}, 'stratified': {}}\n",
    "    y = np.asanyarray(y)\n",
    "    X = np.ones_like(y).reshape(-1, 1)\n",
    "    for method, scores in result.items():\n",
    "        model = DummyClassifier(strategy=method, random_state=random_state)\n",
    "        _ = model.fit(X, y)\n",
    "        scores['f1'] = f1_score(y, model.predict(X), average='weighted')\n",
    "        y_prob = model.predict_proba(X)\n",
    "        if rf.is_binary(y):\n",
    "            scores['roc_auc'] = roc_auc_score(y, y_prob[:, 1])\n",
    "        else:\n",
    "            scores['roc_auc'] = roc_auc_score(y, y_prob, multi_class='ovr')            \n",
    "    return result\n",
    "\n",
    "dummy_classification_scores(df['Lithology'], random_state=42)"
   ]
  },
  {
   "cell_type": "code",
   "execution_count": 68,
   "id": "b4c958c6",
   "metadata": {},
   "outputs": [
    {
     "data": {
      "text/plain": [
       "{'most_frequent': {'f1': 0.3333333333333333, 'roc_auc': 0.5},\n",
       " 'stratified': {'f1': 0.20000000000000004, 'roc_auc': 0.35654761904761906}}"
      ]
     },
     "execution_count": 68,
     "metadata": {},
     "output_type": "execute_result"
    }
   ],
   "source": [
    "y_ = [1, 1, 1, 1, 1, 2, 2, 2, 3, 3]\n",
    "dummy_classification_scores(y_, random_state=42)"
   ]
  },
  {
   "cell_type": "code",
   "execution_count": null,
   "id": "f86a9e61",
   "metadata": {},
   "outputs": [],
   "source": []
  }
 ],
 "metadata": {
  "kernelspec": {
   "display_name": "redflag",
   "language": "python",
   "name": "redflag"
  },
  "language_info": {
   "codemirror_mode": {
    "name": "ipython",
    "version": 3
   },
   "file_extension": ".py",
   "mimetype": "text/x-python",
   "name": "python",
   "nbconvert_exporter": "python",
   "pygments_lexer": "ipython3",
   "version": "3.10.8"
  }
 },
 "nbformat": 4,
 "nbformat_minor": 5
}
