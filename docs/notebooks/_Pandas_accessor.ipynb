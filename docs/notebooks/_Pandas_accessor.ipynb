{
 "cells": [
  {
   "cell_type": "markdown",
   "id": "355e4657",
   "metadata": {},
   "source": [
    "# Pandas accessor for `redflag`"
   ]
  },
  {
   "cell_type": "code",
   "execution_count": 1,
   "id": "75bb8303",
   "metadata": {},
   "outputs": [
    {
     "ename": "ModuleNotFoundError",
     "evalue": "No module named 'pandas'",
     "output_type": "error",
     "traceback": [
      "\u001b[0;31m---------------------------------------------------------------------------\u001b[0m",
      "\u001b[0;31mModuleNotFoundError\u001b[0m                       Traceback (most recent call last)",
      "Cell \u001b[0;32mIn[1], line 1\u001b[0m\n\u001b[0;32m----> 1\u001b[0m \u001b[38;5;28;01mimport\u001b[39;00m \u001b[38;5;21;01mpandas\u001b[39;00m \u001b[38;5;28;01mas\u001b[39;00m \u001b[38;5;21;01mpd\u001b[39;00m\n\u001b[1;32m      3\u001b[0m df \u001b[38;5;241m=\u001b[39m pd\u001b[38;5;241m.\u001b[39mread_csv(\u001b[38;5;124m\"\u001b[39m\u001b[38;5;124mhttps://geocomp.s3.amazonaws.com/data/RPC_simple.csv\u001b[39m\u001b[38;5;124m\"\u001b[39m)\n\u001b[1;32m      5\u001b[0m df\u001b[38;5;241m.\u001b[39mhead()\n",
      "\u001b[0;31mModuleNotFoundError\u001b[0m: No module named 'pandas'"
     ]
    }
   ],
   "source": [
    "import pandas as pd\n",
    "\n",
    "df = pd.read_csv(\"https://geocomp.s3.amazonaws.com/data/RPC_simple.csv\")\n",
    "\n",
    "df.head()"
   ]
  },
  {
   "cell_type": "code",
   "execution_count": 2,
   "id": "39832c6c",
   "metadata": {},
   "outputs": [
    {
     "data": {
      "text/plain": [
       "1.4130434782602501"
      ]
     },
     "execution_count": 2,
     "metadata": {},
     "output_type": "execute_result"
    }
   ],
   "source": [
    "import redflag as rf\n",
    "\n",
    "rf.imbalance_degree([1,1,2,1,1,2,2,1,1,1,1,1,2,1,3,3,3,3,2,1,1,1,1])"
   ]
  },
  {
   "cell_type": "code",
   "execution_count": 4,
   "id": "92e29966",
   "metadata": {},
   "outputs": [],
   "source": [
    "from pandas.api.extensions import register_dataframe_accessor"
   ]
  },
  {
   "cell_type": "code",
   "execution_count": 5,
   "id": "372a6bf1",
   "metadata": {},
   "outputs": [],
   "source": [
    "@register_dataframe_accessor(\"redflag\")\n",
    "class RedflagAccessor:\n",
    "    def __init__(self, pandas_obj):\n",
    "        self._obj = pandas_obj\n",
    "\n",
    "    def imbalance_degree(self, target=None):\n",
    "        return rf.imbalance_degree(self._obj[target])\n",
    "\n",
    "    def minority_classes(self, target=None):\n",
    "        return rf.minority_classes(self._obj[target])"
   ]
  },
  {
   "cell_type": "code",
   "execution_count": 6,
   "id": "7c3963ec",
   "metadata": {},
   "outputs": [
    {
     "data": {
      "text/plain": [
       "-1.0"
      ]
     },
     "execution_count": 6,
     "metadata": {},
     "output_type": "execute_result"
    }
   ],
   "source": [
    "df.redflag.imbalance_degree(target='Lithology')"
   ]
  },
  {
   "cell_type": "markdown",
   "id": "ea50c3ce",
   "metadata": {},
   "source": [
    "Noice."
   ]
  },
  {
   "cell_type": "code",
   "execution_count": 7,
   "id": "94f7c2cd",
   "metadata": {},
   "outputs": [
    {
     "data": {
      "text/plain": [
       "array([], dtype=float64)"
      ]
     },
     "execution_count": 7,
     "metadata": {},
     "output_type": "execute_result"
    }
   ],
   "source": [
    "df.redflag.minority_classes(target='Lithology')"
   ]
  },
  {
   "cell_type": "code",
   "execution_count": 8,
   "id": "62ea78b5",
   "metadata": {},
   "outputs": [
    {
     "data": {
      "text/plain": [
       "array([], dtype=int64)"
      ]
     },
     "execution_count": 8,
     "metadata": {},
     "output_type": "execute_result"
    }
   ],
   "source": [
    "import redflag as rf\n",
    "data = 3 * [-3, -2, -2, -1, 0, 0, 0, 1, 2, 2, 3]\n",
    "rf.get_outliers(data)\n",
    "# array([], dtype=int64)"
   ]
  },
  {
   "cell_type": "code",
   "execution_count": 9,
   "id": "84c883db",
   "metadata": {},
   "outputs": [
    {
     "data": {
      "text/plain": [
       "array([1.1, 1.9, 1.4, 1.7, 1.5, 1.3, 1. , 1.8, 1.6, 1.2])"
      ]
     },
     "execution_count": 9,
     "metadata": {},
     "output_type": "execute_result"
    }
   ],
   "source": [
    "import numpy as np\n",
    "import redflag as rf\n",
    "from sklearn.linear_model import LinearRegression\n",
    "from sklearn.pipeline import make_pipeline\n",
    "\n",
    "X = np.arange(10).reshape(-1, 1)\n",
    "np.random.shuffle(X)\n",
    "y = np.squeeze(10 * X + 1)\n",
    "pipe = make_pipeline(rf.DistributionComparator(), LinearRegression())\n",
    "pipe.fit(X, y)\n",
    "pipe.predict(X / 100)  # Dramatically different distribution."
   ]
  },
  {
   "cell_type": "code",
   "execution_count": 10,
   "id": "6427e5ee",
   "metadata": {},
   "outputs": [
    {
     "data": {
      "text/plain": [
       "array([1.1, 1.9, 1.4, 1.7, 1.5, 1.3, 1. , 1.8, 1.6, 1.2])"
      ]
     },
     "execution_count": 10,
     "metadata": {},
     "output_type": "execute_result"
    }
   ],
   "source": [
    "pipe.predict(X / 100)"
   ]
  },
  {
   "cell_type": "code",
   "execution_count": 11,
   "id": "6e912a70",
   "metadata": {},
   "outputs": [
    {
     "data": {
      "text/plain": [
       "array([[1],\n",
       "       [9],\n",
       "       [4],\n",
       "       [7],\n",
       "       [5],\n",
       "       [3],\n",
       "       [0],\n",
       "       [8],\n",
       "       [6],\n",
       "       [2]])"
      ]
     },
     "execution_count": 11,
     "metadata": {},
     "output_type": "execute_result"
    }
   ],
   "source": [
    "X"
   ]
  },
  {
   "cell_type": "markdown",
   "id": "45185280",
   "metadata": {},
   "source": [
    "## Series Accessor"
   ]
  },
  {
   "cell_type": "code",
   "execution_count": 12,
   "id": "7ec28d7f",
   "metadata": {},
   "outputs": [
    {
     "name": "stderr",
     "output_type": "stream",
     "text": [
      "registration of accessor <class '__main__.SeriesAccessor'> under name 'redflag' for type <class 'pandas.core.series.Series'> is overriding a preexisting attribute with the same name.\n"
     ]
    }
   ],
   "source": [
    "from pandas.api.extensions import register_series_accessor\n",
    "from pandas.api.extensions import register_dataframe_accessor\n",
    "\n",
    "@register_series_accessor(\"redflag\")\n",
    "class SeriesAccessor:\n",
    "    def __init__(self, pandas_obj):\n",
    "        self._obj = pandas_obj\n",
    "\n",
    "    def imbalance_degree(self):\n",
    "        return rf.imbalance_degree(self._obj)\n",
    "\n",
    "    def minority_classes(self):\n",
    "        return rf.minority_classes(self._obj)"
   ]
  },
  {
   "cell_type": "code",
   "execution_count": 13,
   "id": "88447a57",
   "metadata": {},
   "outputs": [
    {
     "data": {
      "text/plain": [
       "-1.0"
      ]
     },
     "execution_count": 13,
     "metadata": {},
     "output_type": "execute_result"
    }
   ],
   "source": [
    "df['Lithology'].redflag.imbalance_degree()"
   ]
  },
  {
   "cell_type": "markdown",
   "id": "369cf2f6",
   "metadata": {},
   "source": [
    "## Avoid depending on pandas\n",
    "\n",
    "We want to avoid importing Pandas if a person doesn't want to use the accessors.\n",
    "\n",
    "BTW, we can't (or don't want to) avoid depending on `sklearn` so the sklearn.py module does not need to do the same."
   ]
  },
  {
   "cell_type": "code",
   "execution_count": 14,
   "id": "e9b7c6f0",
   "metadata": {},
   "outputs": [],
   "source": [
    "def identity(arg):\n",
    "    def decorator(func):\n",
    "        return func \n",
    "    return decorator\n",
    "\n",
    "@identity('foo')\n",
    "def hello(x):\n",
    "    return f\"Hello {x}\""
   ]
  },
  {
   "cell_type": "code",
   "execution_count": 15,
   "id": "2dc1164b",
   "metadata": {},
   "outputs": [
    {
     "data": {
      "text/plain": [
       "'Hello Matt'"
      ]
     },
     "execution_count": 15,
     "metadata": {},
     "output_type": "execute_result"
    }
   ],
   "source": [
    "hello('Matt')"
   ]
  },
  {
   "cell_type": "markdown",
   "id": "c3a6944f",
   "metadata": {},
   "source": [
    "Test with environment `foo`, which does not have `pandas`..."
   ]
  },
  {
   "cell_type": "code",
   "execution_count": 1,
   "id": "526a73e8",
   "metadata": {},
   "outputs": [
    {
     "ename": "ModuleNotFoundError",
     "evalue": "No module named 'pandas'",
     "output_type": "error",
     "traceback": [
      "\u001b[0;31m---------------------------------------------------------------------------\u001b[0m",
      "\u001b[0;31mModuleNotFoundError\u001b[0m                       Traceback (most recent call last)",
      "Cell \u001b[0;32mIn[1], line 1\u001b[0m\n\u001b[0;32m----> 1\u001b[0m \u001b[38;5;28;01mimport\u001b[39;00m \u001b[38;5;21;01mpandas\u001b[39;00m \u001b[38;5;28;01mas\u001b[39;00m \u001b[38;5;21;01mpd\u001b[39;00m\n\u001b[1;32m      3\u001b[0m df \u001b[38;5;241m=\u001b[39m pd\u001b[38;5;241m.\u001b[39mread_csv(\u001b[38;5;124m\"\u001b[39m\u001b[38;5;124mhttps://geocomp.s3.amazonaws.com/data/RPC_simple.csv\u001b[39m\u001b[38;5;124m\"\u001b[39m)\n\u001b[1;32m      5\u001b[0m df\u001b[38;5;241m.\u001b[39mhead()\n",
      "\u001b[0;31mModuleNotFoundError\u001b[0m: No module named 'pandas'"
     ]
    }
   ],
   "source": [
    "import pandas as pd\n",
    "\n",
    "df = pd.read_csv(\"https://geocomp.s3.amazonaws.com/data/RPC_simple.csv\")\n",
    "\n",
    "df.head()"
   ]
  },
  {
   "cell_type": "code",
   "execution_count": 2,
   "id": "90eb5821",
   "metadata": {},
   "outputs": [
    {
     "data": {
      "text/plain": [
       "1.4130434782602501"
      ]
     },
     "execution_count": 2,
     "metadata": {},
     "output_type": "execute_result"
    }
   ],
   "source": [
    "import redflag as rf\n",
    "\n",
    "rf.imbalance_degree([1,1,2,1,1,2,2,1,1,1,1,1,2,1,3,3,3,3,2,1,1,1,1])"
   ]
  }
 ],
 "metadata": {
  "kernelspec": {
   "display_name": "redflag",
   "language": "python",
   "name": "redflag"
  },
  "language_info": {
   "codemirror_mode": {
    "name": "ipython",
    "version": 3
   },
   "file_extension": ".py",
   "mimetype": "text/x-python",
   "name": "python",
   "nbconvert_exporter": "python",
   "pygments_lexer": "ipython3",
   "version": "3.10.8"
  }
 },
 "nbformat": 4,
 "nbformat_minor": 5
}
